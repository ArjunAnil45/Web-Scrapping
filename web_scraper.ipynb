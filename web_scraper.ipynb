{
 "metadata": {
  "language_info": {
   "codemirror_mode": {
    "name": "ipython",
    "version": 3
   },
   "file_extension": ".py",
   "mimetype": "text/x-python",
   "name": "python",
   "nbconvert_exporter": "python",
   "pygments_lexer": "ipython3",
   "version": "3.9.5"
  },
  "orig_nbformat": 4,
  "kernelspec": {
   "name": "python3",
   "display_name": "Python 3.9.5 64-bit ('env': venv)"
  },
  "interpreter": {
   "hash": "0366d4a7e13d41426ce9ad91b70643fd0d9a5824f9da81a2cdc4895ab49e715d"
  }
 },
 "nbformat": 4,
 "nbformat_minor": 2,
 "cells": [
  {
   "cell_type": "code",
   "execution_count": 6,
   "metadata": {},
   "outputs": [],
   "source": [
    "from bs4 import BeautifulSoup\n",
    "from bs4.builder import HTML\n",
    "import numpy as np\n",
    "import requests\n",
    "import pandas as pd\n",
    "import os\n",
    "import openpyxl\n"
   ]
  },
  {
   "cell_type": "code",
   "execution_count": 7,
   "metadata": {},
   "outputs": [],
   "source": [
    "pwd = os.getcwd()"
   ]
  },
  {
   "cell_type": "code",
   "execution_count": 8,
   "metadata": {},
   "outputs": [],
   "source": [
    "company_names = []\n",
    "company_types = []\n",
    "company_ratings = []\n",
    "company_delivery_info = []\n",
    "company_min_amount = [] \n",
    "\n",
    "#The pages varaible take in the number of pages the webstie has and then loops through those pages to retirve the scrapping data.\n",
    "\n",
    "starting_page = 1\n",
    "ending_page = 78\n",
    "how_man_page_skip = 1\n",
    "\n",
    "\n",
    "pages = np.arange(starting_page,ending_page,how_man_page_skip)\n",
    "\n",
    "for page in pages:\n",
    "\n",
    "    #the html url reuqest to those website and gets the data and converts to text.\n",
    "\n",
    "    html_url= requests.get(\"https://www.talabat.com/bahrain/restaurants/997/muharraq?page=\"+str(page)).text\n",
    "\n",
    "    soup = BeautifulSoup(html_url,'html.parser')\n",
    "\n",
    "    #using the souq final all we look for class name under div \n",
    "    companies = soup.find_all('div',class_=\"list-itemstyles__VendorListItemContainer-ia2hbn-0 eLZatB\")\n",
    "\n",
    "    for com in companies:\n",
    "\n",
    "        #under the above div and class we look for information we need in their respective classes.\n",
    "        company_name = com.find('div',class_=\"restaurant-title pb-1\").text\n",
    "        company_names.append(company_name)\n",
    "\n",
    "        company_type = com.find('div',class_=\"cuisines-section pb-1 truncate\").text\n",
    "        company_types.append(company_type)\n",
    "\n",
    "        ratings = com.find('div',class_=\"ml-1 undefined\")\n",
    "\n",
    "        if(ratings is None):\n",
    "            ratings = \"Empty\"\n",
    "        else:\n",
    "            ratings = com.find('div',class_=\"ml-1 undefined\").text     \n",
    "\n",
    "        company_ratings.append(ratings)\n",
    "\n",
    "        delivery_info = com.find('span',class_=\"mr-2\").text\n",
    "        company_delivery_info.append(delivery_info)\n",
    "\n",
    "        min_amount = com.find('span',class_=\"d-none d-sm-block\").text\n",
    "        company_min_amount.append(min_amount)\n",
    "\n",
    "\n"
   ]
  },
  {
   "cell_type": "code",
   "execution_count": 9,
   "metadata": {},
   "outputs": [],
   "source": [
    "#creating excel sheet using pandas\n",
    "\n",
    "talabat_data = pd.DataFrame({\n",
    "    'Company Name':company_names,\n",
    "    'Company Type':company_types,\n",
    "    'Ratings':company_ratings,\n",
    "    'Company Delivery Time':company_delivery_info,\n",
    "    'Company Minimum Price':company_min_amount\n",
    "})\n",
    "#here we are making coloums to where to store the above datafarame values.\n",
    "talabat = pd.DataFrame(talabat_data,columns=['Company Name','Company Type','Ratings','Company Delivery Time','Company Minimum Price'])\n",
    "\n",
    "#here we are making new excel sheet with the dataframe.\n",
    "talabat.to_excel(pwd + \"/Final.xlsx\",index=False)"
   ]
  },
  {
   "cell_type": "code",
   "execution_count": null,
   "metadata": {},
   "outputs": [],
   "source": []
  }
 ]
}